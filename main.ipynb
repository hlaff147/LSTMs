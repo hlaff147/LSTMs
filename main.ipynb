{
 "cells": [
  {
   "cell_type": "code",
   "execution_count": 2,
   "metadata": {},
   "outputs": [],
   "source": [
    "#install all the required dependancy libraries\n",
    "# !pip install tensorflow (LSTM implementation)\n",
    "# !pip install numpy (For matrix multiplication)\n",
    "# !pip install pandas (Define the data structures)\n",
    "# !pip install matplotlib (For visualization)\n",
    "# !pip install scikit-learn (For normalizing the data)"
   ]
  },
  {
   "cell_type": "code",
   "execution_count": null,
   "metadata": {},
   "outputs": [],
   "source": [
    "# Import the libraries\n",
    "import tensorflow as tf\n",
    "import numpy as np\n",
    "import pandas as pd\n",
    "import matplotlib.pyplot as plt\n",
    "from sklearn.preprocessing import StandardScaler\n",
    "import io"
   ]
  },
  {
   "cell_type": "code",
   "execution_count": 3,
   "metadata": {},
   "outputs": [
    {
     "data": {
      "text/html": [
       "<div>\n",
       "<style scoped>\n",
       "    .dataframe tbody tr th:only-of-type {\n",
       "        vertical-align: middle;\n",
       "    }\n",
       "\n",
       "    .dataframe tbody tr th {\n",
       "        vertical-align: top;\n",
       "    }\n",
       "\n",
       "    .dataframe thead th {\n",
       "        text-align: right;\n",
       "    }\n",
       "</style>\n",
       "<table border=\"1\" class=\"dataframe\">\n",
       "  <thead>\n",
       "    <tr style=\"text-align: right;\">\n",
       "      <th></th>\n",
       "      <th></th>\n",
       "      <th></th>\n",
       "      <th></th>\n",
       "      <th></th>\n",
       "      <th></th>\n",
       "      <th></th>\n",
       "      <th></th>\n",
       "      <th>https://www.CryptoDataDownload.com</th>\n",
       "    </tr>\n",
       "  </thead>\n",
       "  <tbody>\n",
       "    <tr>\n",
       "      <th>unix</th>\n",
       "      <th>date</th>\n",
       "      <th>symbol</th>\n",
       "      <th>open</th>\n",
       "      <th>high</th>\n",
       "      <th>low</th>\n",
       "      <th>close</th>\n",
       "      <th>Volume 1INCH</th>\n",
       "      <td>Volume USD</td>\n",
       "    </tr>\n",
       "    <tr>\n",
       "      <th>1678579200000</th>\n",
       "      <th>2023-03-12 00:00:00</th>\n",
       "      <th>1INCH/USD</th>\n",
       "      <th>0.4482</th>\n",
       "      <th>0.4677</th>\n",
       "      <th>0.4422</th>\n",
       "      <th>0.4677</th>\n",
       "      <th>4221.97364</th>\n",
       "      <td>1974.6170714280001</td>\n",
       "    </tr>\n",
       "    <tr>\n",
       "      <th>1678492800000</th>\n",
       "      <th>2023-03-11 00:00:00</th>\n",
       "      <th>1INCH/USD</th>\n",
       "      <th>0.4422</th>\n",
       "      <th>0.455</th>\n",
       "      <th>0.4272</th>\n",
       "      <th>0.4482</th>\n",
       "      <th>11060.162996</th>\n",
       "      <td>4957.165054807199</td>\n",
       "    </tr>\n",
       "    <tr>\n",
       "      <th>1678406400000</th>\n",
       "      <th>2023-03-10 00:00:00</th>\n",
       "      <th>1INCH/USD</th>\n",
       "      <th>0.4376</th>\n",
       "      <th>0.4481</th>\n",
       "      <th>0.4096</th>\n",
       "      <th>0.4422</th>\n",
       "      <th>13204.728323</th>\n",
       "      <td>5839.130864430599</td>\n",
       "    </tr>\n",
       "    <tr>\n",
       "      <th>1678320000000</th>\n",
       "      <th>2023-03-09 00:00:00</th>\n",
       "      <th>1INCH/USD</th>\n",
       "      <th>0.4616</th>\n",
       "      <th>0.4788</th>\n",
       "      <th>0.4239</th>\n",
       "      <th>0.4376</th>\n",
       "      <th>11951.983555</th>\n",
       "      <td>5230.188003668</td>\n",
       "    </tr>\n",
       "  </tbody>\n",
       "</table>\n",
       "</div>"
      ],
      "text/plain": [
       "                                                                                     https://www.CryptoDataDownload.com\n",
       "unix          date                symbol    open   high   low    close  Volume 1INCH                         Volume USD\n",
       "1678579200000 2023-03-12 00:00:00 1INCH/USD 0.4482 0.4677 0.4422 0.4677 4221.97364                   1974.6170714280001\n",
       "1678492800000 2023-03-11 00:00:00 1INCH/USD 0.4422 0.455  0.4272 0.4482 11060.162996                  4957.165054807199\n",
       "1678406400000 2023-03-10 00:00:00 1INCH/USD 0.4376 0.4481 0.4096 0.4422 13204.728323                  5839.130864430599\n",
       "1678320000000 2023-03-09 00:00:00 1INCH/USD 0.4616 0.4788 0.4239 0.4376 11951.983555                     5230.188003668"
      ]
     },
     "execution_count": 3,
     "metadata": {},
     "output_type": "execute_result"
    }
   ],
   "source": [
    "# Loading dataset\n",
    "data = pd.read_csv('Gemini_1INCHUSD_d.csv')\n",
    "data.head()"
   ]
  }
 ],
 "metadata": {
  "kernelspec": {
   "display_name": "Python 3",
   "language": "python",
   "name": "python3"
  },
  "language_info": {
   "codemirror_mode": {
    "name": "ipython",
    "version": 3
   },
   "file_extension": ".py",
   "mimetype": "text/x-python",
   "name": "python",
   "nbconvert_exporter": "python",
   "pygments_lexer": "ipython3",
   "version": "3.7.16"
  },
  "orig_nbformat": 4
 },
 "nbformat": 4,
 "nbformat_minor": 2
}
