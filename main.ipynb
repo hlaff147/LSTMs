{
  "cells": [
    {
      "cell_type": "markdown",
      "metadata": {
        "colab_type": "text",
        "id": "view-in-github"
      },
      "source": [
        "[View in Colaboratory](https://colab.research.google.com/github/brynmwangy/predicting-bitcoin-prices-using-LSTM/blob/master/btc.ipynb)"
      ]
    },
    {
      "cell_type": "code",
      "execution_count": 87,
      "metadata": {
        "colab": {},
        "colab_type": "code",
        "id": "lmPi0F4acbDb"
      },
      "outputs": [],
      "source": [
        "#install all the required dependancy libraries\n",
        "# !pip install tensorflow #for prediction\n",
        "# !pip install numpy  #for matrix multiplication\n",
        "# !pip install pandas #define the data structures\n",
        "# !pip install matplotlib #for visualization\n",
        "# !pip install scikit-learn #for normalizing our data(scaling)\n",
        "\n",
        "#importing the libraries\n",
        "from datetime import datetime\n",
        "import tensorflow as tf\n",
        "import numpy as np\n",
        "import pandas as pd\n",
        "import matplotlib.pyplot as plt\n",
        "from sklearn.preprocessing import StandardScaler\n",
        "import io\n",
        "%matplotlib inline\n"
      ]
    },
    {
      "cell_type": "code",
      "execution_count": 88,
      "metadata": {
        "colab": {
          "base_uri": "https://localhost:8080/",
          "height": 76,
          "resources": {
            "http://localhost:8080/nbextensions/google.colab/files.js": {
              "data": "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",
              "headers": [
                [
                  "content-type",
                  "application/javascript"
                ]
              ],
              "ok": true,
              "status": 200,
              "status_text": "OK"
            }
          }
        },
        "colab_type": "code",
        "id": "5SA-Zrn2cqr4",
        "outputId": "59887f22-4ecb-4b47-b8b8-2264b37f7324"
      },
      "outputs": [
        {
          "data": {
            "text/html": [
              "<div>\n",
              "<style scoped>\n",
              "    .dataframe tbody tr th:only-of-type {\n",
              "        vertical-align: middle;\n",
              "    }\n",
              "\n",
              "    .dataframe tbody tr th {\n",
              "        vertical-align: top;\n",
              "    }\n",
              "\n",
              "    .dataframe thead th {\n",
              "        text-align: right;\n",
              "    }\n",
              "</style>\n",
              "<table border=\"1\" class=\"dataframe\">\n",
              "  <thead>\n",
              "    <tr style=\"text-align: right;\">\n",
              "      <th></th>\n",
              "      <th>Date</th>\n",
              "      <th>Symbol</th>\n",
              "      <th>Open</th>\n",
              "      <th>High</th>\n",
              "      <th>Low</th>\n",
              "      <th>Close</th>\n",
              "      <th>Volume From</th>\n",
              "      <th>Volume To</th>\n",
              "    </tr>\n",
              "  </thead>\n",
              "  <tbody>\n",
              "    <tr>\n",
              "      <th>0</th>\n",
              "      <td>5/26/2018</td>\n",
              "      <td>BTCUSD</td>\n",
              "      <td>7459.11</td>\n",
              "      <td>7640.46</td>\n",
              "      <td>7380.00</td>\n",
              "      <td>7520.00</td>\n",
              "      <td>2722.80</td>\n",
              "      <td>2.042265e+07</td>\n",
              "    </tr>\n",
              "    <tr>\n",
              "      <th>1</th>\n",
              "      <td>5/25/2018</td>\n",
              "      <td>BTCUSD</td>\n",
              "      <td>7584.15</td>\n",
              "      <td>7661.85</td>\n",
              "      <td>7326.94</td>\n",
              "      <td>7459.11</td>\n",
              "      <td>8491.93</td>\n",
              "      <td>6.342069e+07</td>\n",
              "    </tr>\n",
              "    <tr>\n",
              "      <th>2</th>\n",
              "      <td>5/24/2018</td>\n",
              "      <td>BTCUSD</td>\n",
              "      <td>7505.00</td>\n",
              "      <td>7734.99</td>\n",
              "      <td>7269.00</td>\n",
              "      <td>7584.15</td>\n",
              "      <td>11033.72</td>\n",
              "      <td>8.293137e+07</td>\n",
              "    </tr>\n",
              "    <tr>\n",
              "      <th>3</th>\n",
              "      <td>5/23/2018</td>\n",
              "      <td>BTCUSD</td>\n",
              "      <td>7987.70</td>\n",
              "      <td>8030.00</td>\n",
              "      <td>7433.19</td>\n",
              "      <td>7505.00</td>\n",
              "      <td>14905.99</td>\n",
              "      <td>1.148104e+08</td>\n",
              "    </tr>\n",
              "    <tr>\n",
              "      <th>4</th>\n",
              "      <td>5/22/2018</td>\n",
              "      <td>BTCUSD</td>\n",
              "      <td>8393.44</td>\n",
              "      <td>8400.00</td>\n",
              "      <td>7950.00</td>\n",
              "      <td>7987.70</td>\n",
              "      <td>6589.43</td>\n",
              "      <td>5.389753e+07</td>\n",
              "    </tr>\n",
              "  </tbody>\n",
              "</table>\n",
              "</div>"
            ],
            "text/plain": [
              "        Date  Symbol     Open     High      Low    Close  Volume From  \\\n",
              "0  5/26/2018  BTCUSD  7459.11  7640.46  7380.00  7520.00      2722.80   \n",
              "1  5/25/2018  BTCUSD  7584.15  7661.85  7326.94  7459.11      8491.93   \n",
              "2  5/24/2018  BTCUSD  7505.00  7734.99  7269.00  7584.15     11033.72   \n",
              "3  5/23/2018  BTCUSD  7987.70  8030.00  7433.19  7505.00     14905.99   \n",
              "4  5/22/2018  BTCUSD  8393.44  8400.00  7950.00  7987.70      6589.43   \n",
              "\n",
              "      Volume To  \n",
              "0  2.042265e+07  \n",
              "1  6.342069e+07  \n",
              "2  8.293137e+07  \n",
              "3  1.148104e+08  \n",
              "4  5.389753e+07  "
            ]
          },
          "execution_count": 88,
          "metadata": {},
          "output_type": "execute_result"
        }
      ],
      "source": [
        "#loading the dataset\n",
        "btc = pd.read_csv('btc.csv')\n",
        "btc.head(5)"
      ]
    },
    {
      "cell_type": "code",
      "execution_count": 89,
      "metadata": {
        "colab": {
          "base_uri": "https://localhost:8080/",
          "height": 206
        },
        "colab_type": "code",
        "id": "y0PrtbsMde8D",
        "outputId": "fad7d30a-a192-4b50-cd2c-fb8e5a9ae403"
      },
      "outputs": [
        {
          "data": {
            "text/html": [
              "<div>\n",
              "<style scoped>\n",
              "    .dataframe tbody tr th:only-of-type {\n",
              "        vertical-align: middle;\n",
              "    }\n",
              "\n",
              "    .dataframe tbody tr th {\n",
              "        vertical-align: top;\n",
              "    }\n",
              "\n",
              "    .dataframe thead th {\n",
              "        text-align: right;\n",
              "    }\n",
              "</style>\n",
              "<table border=\"1\" class=\"dataframe\">\n",
              "  <thead>\n",
              "    <tr style=\"text-align: right;\">\n",
              "      <th></th>\n",
              "      <th>Date</th>\n",
              "      <th>Symbol</th>\n",
              "      <th>Open</th>\n",
              "      <th>High</th>\n",
              "      <th>Low</th>\n",
              "      <th>Close</th>\n",
              "      <th>Volume From</th>\n",
              "      <th>Volume To</th>\n",
              "    </tr>\n",
              "  </thead>\n",
              "  <tbody>\n",
              "    <tr>\n",
              "      <th>1272</th>\n",
              "      <td>2014-12-01</td>\n",
              "      <td>BTCUSD</td>\n",
              "      <td>300.0</td>\n",
              "      <td>370.0</td>\n",
              "      <td>300.00</td>\n",
              "      <td>370.0</td>\n",
              "      <td>0.05656</td>\n",
              "      <td>19.53</td>\n",
              "    </tr>\n",
              "    <tr>\n",
              "      <th>1271</th>\n",
              "      <td>2014-12-02</td>\n",
              "      <td>BTCUSD</td>\n",
              "      <td>370.0</td>\n",
              "      <td>378.0</td>\n",
              "      <td>370.00</td>\n",
              "      <td>378.0</td>\n",
              "      <td>15.01000</td>\n",
              "      <td>5675.07</td>\n",
              "    </tr>\n",
              "    <tr>\n",
              "      <th>1270</th>\n",
              "      <td>2014-12-03</td>\n",
              "      <td>BTCUSD</td>\n",
              "      <td>378.0</td>\n",
              "      <td>378.0</td>\n",
              "      <td>377.01</td>\n",
              "      <td>378.0</td>\n",
              "      <td>0.54660</td>\n",
              "      <td>206.52</td>\n",
              "    </tr>\n",
              "    <tr>\n",
              "      <th>1269</th>\n",
              "      <td>2014-12-04</td>\n",
              "      <td>BTCUSD</td>\n",
              "      <td>378.0</td>\n",
              "      <td>378.0</td>\n",
              "      <td>377.10</td>\n",
              "      <td>377.1</td>\n",
              "      <td>0.01000</td>\n",
              "      <td>3.77</td>\n",
              "    </tr>\n",
              "    <tr>\n",
              "      <th>1268</th>\n",
              "      <td>2014-12-05</td>\n",
              "      <td>BTCUSD</td>\n",
              "      <td>377.1</td>\n",
              "      <td>377.1</td>\n",
              "      <td>377.10</td>\n",
              "      <td>377.1</td>\n",
              "      <td>0.00000</td>\n",
              "      <td>0.00</td>\n",
              "    </tr>\n",
              "  </tbody>\n",
              "</table>\n",
              "</div>"
            ],
            "text/plain": [
              "           Date  Symbol   Open   High     Low  Close  Volume From  Volume To\n",
              "1272 2014-12-01  BTCUSD  300.0  370.0  300.00  370.0      0.05656      19.53\n",
              "1271 2014-12-02  BTCUSD  370.0  378.0  370.00  378.0     15.01000    5675.07\n",
              "1270 2014-12-03  BTCUSD  378.0  378.0  377.01  378.0      0.54660     206.52\n",
              "1269 2014-12-04  BTCUSD  378.0  378.0  377.10  377.1      0.01000       3.77\n",
              "1268 2014-12-05  BTCUSD  377.1  377.1  377.10  377.1      0.00000       0.00"
            ]
          },
          "execution_count": 89,
          "metadata": {},
          "output_type": "execute_result"
        }
      ],
      "source": [
        "btc['Date'] = btc['Date'].apply(lambda x:datetime.strptime(x,'%m/%d/%Y'))\n",
        "btc.sort_values(by='Date',inplace=True)\n",
        "btc.head()\n"
      ]
    },
    {
      "cell_type": "code",
      "execution_count": 90,
      "metadata": {
        "colab": {
          "base_uri": "https://localhost:8080/",
          "height": 36
        },
        "colab_type": "code",
        "id": "kUSRbjfxmE_e",
        "outputId": "d87196a4-e3e4-4c9b-cfc6-7675153f6da1"
      },
      "outputs": [
        {
          "data": {
            "text/plain": [
              "array([ 370.  ,  378.  ,  378.  , ..., 7584.15, 7459.11, 7520.  ])"
            ]
          },
          "execution_count": 90,
          "metadata": {},
          "output_type": "execute_result"
        }
      ],
      "source": [
        "#selecting only the column that we are going to use in the prediction process\n",
        "target=btc['Close'].values\n",
        "target"
      ]
    },
    {
      "cell_type": "code",
      "execution_count": 91,
      "metadata": {
        "colab": {
          "base_uri": "https://localhost:8080/",
          "height": 457
        },
        "colab_type": "code",
        "id": "RU7Z978_w1lP",
        "outputId": "77c919a3-0fed-403e-e6fb-39d72459f95c"
      },
      "outputs": [
        {
          "data": {
            "image/png": "[encoded data removed]",
            "text/plain": [
              "<Figure size 1200x700 with 1 Axes>"
            ]
          },
          "metadata": {},
          "output_type": "display_data"
        }
      ],
      "source": [
        "#data preprocessing(scaling)\n",
        "from sklearn.preprocessing import StandardScaler\n",
        "scaler = StandardScaler()\n",
        "scaled_data = scaler.fit_transform(target.reshape(-1, 1))\n",
        "#plotting the data\n",
        "import matplotlib.pyplot as plt\n",
        "plt.figure(figsize=(12,7), frameon=False, facecolor='brown', edgecolor='blue')\n",
        "plt.title('Bitcoin prices from December 2014 to May 2018')\n",
        "plt.xlabel('Days')\n",
        "plt.ylabel('Scaled price of Bitcoin')\n",
        "plt.plot(scaled_data, label='Price')\n",
        "plt.legend()\n",
        "plt.show()"
      ]
    },
    {
      "cell_type": "code",
      "execution_count": 92,
      "metadata": {
        "colab": {
          "base_uri": "https://localhost:8080/",
          "height": 92
        },
        "colab_type": "code",
        "id": "PM3y5iPb1HOn",
        "outputId": "f6dc911c-4091-48af-cff2-d9b153f32d7f"
      },
      "outputs": [
        {
          "name": "stdout",
          "output_type": "stream",
          "text": [
            "X_train size: (1018, 7, 1)\n",
            "y_train size: (1018, 1)\n",
            "X_test size: (248, 7, 1)\n",
            "y_test size: (248, 1)\n"
          ]
        }
      ],
      "source": [
        "# This function is used to create Features and Labels datasets. By windowing the data.\n",
        "#Input: data - dataset used in the project\n",
        "#window_size - how many data points we are going to use to predict the next datapoint in the sequence \n",
        "#[Example: if window_size = 1 we are going to use only the previous day to predict todays stock prices]\n",
        "#Outputs: X - features splitted into windows of datapoints (if window_size = 1, X = [len(data)-1, 1])\n",
        "#y - 'labels', actually this is the next number in the sequence, this number we are trying to predict\n",
        "\n",
        "def window_data(data, window_size):\n",
        "    X = []\n",
        "    y = []\n",
        "    \n",
        "    i = 0\n",
        "    while (i + window_size) <= len(data) - 1:\n",
        "        X.append(data[i:i+window_size])\n",
        "        y.append(data[i+window_size])\n",
        "        \n",
        "        i += 1\n",
        "    assert len(X) ==  len(y)\n",
        "    return X, y\n",
        "#windowing the data with window_data function\n",
        "X, y = window_data(scaled_data, 7)\n",
        "\n",
        "\n",
        "#we now split the data into training and test set\n",
        "import numpy as np\n",
        "X_train  = np.array(X[:1018])\n",
        "y_train = np.array(y[:1018])\n",
        "\n",
        "X_test = np.array(X[1018:])\n",
        "y_test = np.array(y[1018:])\n",
        "\n",
        "print(\"X_train size: {}\".format(X_train.shape))\n",
        "print(\"y_train size: {}\".format(y_train.shape))\n",
        "print(\"X_test size: {}\".format(X_test.shape))\n",
        "print(\"y_test size: {}\".format(y_test.shape))"
      ]
    },
    {
      "cell_type": "code",
      "execution_count": 93,
      "metadata": {
        "colab": {
          "base_uri": "https://localhost:8080/",
          "height": 149
        },
        "colab_type": "code",
        "id": "0h75jdrjToBv",
        "outputId": "3e608ca7-b3da-45aa-fdbe-8857e3402c28"
      },
      "outputs": [
        {
          "ename": "AttributeError",
          "evalue": "module 'tensorflow' has no attribute 'placeholder'",
          "output_type": "error",
          "traceback": [
            "\u001b[1;31m---------------------------------------------------------------------------\u001b[0m",
            "\u001b[1;31mAttributeError\u001b[0m                            Traceback (most recent call last)",
            "\u001b[1;32m~\\AppData\\Local\\Temp\\ipykernel_12408\\921707066.py\u001b[0m in \u001b[0;36m<module>\u001b[1;34m\u001b[0m\n\u001b[0;32m     10\u001b[0m \u001b[1;32mimport\u001b[0m \u001b[0mtensorflow\u001b[0m \u001b[1;32mas\u001b[0m \u001b[0mtf\u001b[0m\u001b[1;33m\u001b[0m\u001b[1;33m\u001b[0m\u001b[0m\n\u001b[0;32m     11\u001b[0m \u001b[1;31m#we define the placeholders\u001b[0m\u001b[1;33m\u001b[0m\u001b[1;33m\u001b[0m\u001b[1;33m\u001b[0m\u001b[0m\n\u001b[1;32m---> 12\u001b[1;33m \u001b[0minputs\u001b[0m \u001b[1;33m=\u001b[0m \u001b[0mtf\u001b[0m\u001b[1;33m.\u001b[0m\u001b[0mplaceholder\u001b[0m\u001b[1;33m(\u001b[0m\u001b[0mtf\u001b[0m\u001b[1;33m.\u001b[0m\u001b[0mfloat32\u001b[0m\u001b[1;33m,\u001b[0m \u001b[1;33m[\u001b[0m\u001b[0mbatch_size\u001b[0m\u001b[1;33m,\u001b[0m \u001b[0mwindow_size\u001b[0m\u001b[1;33m,\u001b[0m \u001b[1;36m1\u001b[0m\u001b[1;33m]\u001b[0m\u001b[1;33m)\u001b[0m\u001b[1;33m\u001b[0m\u001b[1;33m\u001b[0m\u001b[0m\n\u001b[0m\u001b[0;32m     13\u001b[0m \u001b[0mtargets\u001b[0m \u001b[1;33m=\u001b[0m \u001b[0mtf\u001b[0m\u001b[1;33m.\u001b[0m\u001b[0mplaceholder\u001b[0m\u001b[1;33m(\u001b[0m\u001b[0mtf\u001b[0m\u001b[1;33m.\u001b[0m\u001b[0mfloat32\u001b[0m\u001b[1;33m,\u001b[0m \u001b[1;33m[\u001b[0m\u001b[0mbatch_size\u001b[0m\u001b[1;33m,\u001b[0m \u001b[1;36m1\u001b[0m\u001b[1;33m]\u001b[0m\u001b[1;33m)\u001b[0m\u001b[1;33m\u001b[0m\u001b[1;33m\u001b[0m\u001b[0m\n\u001b[0;32m     14\u001b[0m \u001b[1;33m\u001b[0m\u001b[0m\n",
            "\u001b[1;31mAttributeError\u001b[0m: module 'tensorflow' has no attribute 'placeholder'"
          ]
        }
      ],
      "source": [
        "#we now define the network\n",
        "#Hyperparameters used in the network\n",
        "batch_size = 7 #how many windows of data we are passing at once\n",
        "window_size = 7 #how big window_size is (Or How many days do we consider to predict next point in the sequence)\n",
        "hidden_layer = 256 #How many units do we use in LSTM cell\n",
        "clip_margin = 4 #To prevent exploding gradient, we use clipper to clip gradients below -margin or above this margin\n",
        "learning_rate = 0.001 \n",
        "epochs = 200 \n",
        "\n",
        "import tensorflow as tf\n",
        "#we define the placeholders\n",
        "inputs = tf.placeholder(tf.float32, [batch_size, window_size, 1])\n",
        "targets = tf.placeholder(tf.float32, [batch_size, 1])\n",
        "\n",
        "\n",
        "\n",
        "#weights and implementation of LSTM cell\n",
        "# LSTM weights\n",
        "\n",
        "#Weights for the input gate\n",
        "weights_input_gate = tf.Variable(tf.truncated_normal([1, hidden_layer], stddev=0.05))\n",
        "weights_input_hidden = tf.Variable(tf.truncated_normal([hidden_layer, hidden_layer], stddev=0.05))\n",
        "bias_input = tf.Variable(tf.zeros([hidden_layer]))\n",
        "\n",
        "#weights for the forgot gate\n",
        "weights_forget_gate = tf.Variable(tf.truncated_normal([1, hidden_layer], stddev=0.05))\n",
        "weights_forget_hidden = tf.Variable(tf.truncated_normal([hidden_layer, hidden_layer], stddev=0.05))\n",
        "bias_forget = tf.Variable(tf.zeros([hidden_layer]))\n",
        "\n",
        "#weights for the output gate\n",
        "weights_output_gate = tf.Variable(tf.truncated_normal([1, hidden_layer], stddev=0.05))\n",
        "weights_output_hidden = tf.Variable(tf.truncated_normal([hidden_layer, hidden_layer], stddev=0.05))\n",
        "bias_output = tf.Variable(tf.zeros([hidden_layer]))\n",
        "\n",
        "#weights for the memory cell\n",
        "weights_memory_cell = tf.Variable(tf.truncated_normal([1, hidden_layer], stddev=0.05))\n",
        "weights_memory_cell_hidden = tf.Variable(tf.truncated_normal([hidden_layer, hidden_layer], stddev=0.05))\n",
        "bias_memory_cell = tf.Variable(tf.zeros([hidden_layer]))\n",
        "\n",
        "#Output layer weigts\n",
        "weights_output = tf.Variable(tf.truncated_normal([hidden_layer, 1], stddev=0.05))\n",
        "bias_output_layer = tf.Variable(tf.zeros([1]))\n",
        "\n",
        "\n",
        "#function to compute the gate states\n",
        "def LSTM_cell(input, output, state):\n",
        "    \n",
        "    input_gate = tf.sigmoid(tf.matmul(input, weights_input_gate) + tf.matmul(output, weights_input_hidden) + bias_input)\n",
        "    \n",
        "    forget_gate = tf.sigmoid(tf.matmul(input, weights_forget_gate) + tf.matmul(output, weights_forget_hidden) + bias_forget)\n",
        "    \n",
        "    output_gate = tf.sigmoid(tf.matmul(input, weights_output_gate) + tf.matmul(output, weights_output_hidden) + bias_output)\n",
        "    \n",
        "    memory_cell = tf.tanh(tf.matmul(input, weights_memory_cell) + tf.matmul(output, weights_memory_cell_hidden) + bias_memory_cell)\n",
        "    \n",
        "    state = state * forget_gate + input_gate * memory_cell\n",
        "    \n",
        "    output = output_gate * tf.tanh(state)\n",
        "    return state, output\n",
        "  \n",
        "  \n",
        " #we now define loop for the network\n",
        "outputs = []\n",
        "for i in range(batch_size): #Iterates through every window in the batch\n",
        "  \n",
        "    #for each batch I am creating batch_state as all zeros and output for that window which is all zeros at the beginning as well.\n",
        "    batch_state = np.zeros([1, hidden_layer], dtype=np.float32) \n",
        "    batch_output = np.zeros([1, hidden_layer], dtype=np.float32)\n",
        "    \n",
        "    #for each point in the window we are feeding that into LSTM to get next output\n",
        "    for ii in range(window_size):\n",
        "        batch_state, batch_output = LSTM_cell(tf.reshape(inputs[i][ii], (-1, 1)), batch_state, batch_output)\n",
        "        \n",
        "    #last output is conisdered and used to get a prediction\n",
        "    outputs.append(tf.matmul(batch_output, weights_output) + bias_output_layer)\n",
        "outputs "
      ]
    },
    {
      "cell_type": "code",
      "execution_count": null,
      "metadata": {
        "colab": {
          "base_uri": "https://localhost:8080/",
          "height": 149
        },
        "colab_type": "code",
        "id": "TRI3eUQzW6_S",
        "outputId": "448ec4e9-47d2-45ff-bcfc-751e452ddf8d"
      },
      "outputs": [
        {
          "name": "stdout",
          "output_type": "stream",
          "text": [
            "Epoch 0/200  Current loss: 0.3076134920120239\n",
            "Epoch 30/200  Current loss: 0.06945808231830597\n",
            "Epoch 60/200  Current loss: 0.014814065769314766\n",
            "Epoch 90/200  Current loss: 0.00812275055795908\n",
            "Epoch 120/200  Current loss: 0.008665612898766994\n",
            "Epoch 150/200  Current loss: 0.006726672872900963\n",
            "Epoch 180/200  Current loss: 0.008009745739400387\n"
          ]
        }
      ],
      "source": [
        "#we define the loss\n",
        "losses = []\n",
        "\n",
        "for i in range(len(outputs)):\n",
        "    losses.append(tf.losses.mean_squared_error(tf.reshape(targets[i], (-1, 1)), outputs[i]))\n",
        "    \n",
        "loss = tf.reduce_mean(losses)\n",
        "\n",
        "#we define optimizer with gradient clipping\n",
        "gradients = tf.gradients(loss, tf.trainable_variables())\n",
        "clipped, _ = tf.clip_by_global_norm(gradients, clip_margin)\n",
        "optimizer = tf.train.AdamOptimizer(learning_rate)\n",
        "trained_optimizer = optimizer.apply_gradients(zip(gradients, tf.trainable_variables()))\n",
        "\n",
        "#we now train the network\n",
        "session = tf.Session()\n",
        "session.run(tf.global_variables_initializer())\n",
        "for i in range(epochs):\n",
        "    traind_scores = []\n",
        "    ii = 0\n",
        "    epoch_loss = []\n",
        "    while(ii + batch_size) <= len(X_train):\n",
        "        X_batch = X_train[ii:ii+batch_size]\n",
        "        y_batch = y_train[ii:ii+batch_size]\n",
        "        \n",
        "        o, c, _ = session.run([outputs, loss, trained_optimizer], feed_dict={inputs:X_batch, targets:y_batch})\n",
        "        \n",
        "        epoch_loss.append(c)\n",
        "        traind_scores.append(o)\n",
        "        ii += batch_size\n",
        "    if (i % 30) == 0:\n",
        "        print('Epoch {}/{}'.format(i, epochs), ' Current loss: {}'.format(np.mean(epoch_loss)))\n",
        "        "
      ]
    },
    {
      "cell_type": "code",
      "execution_count": null,
      "metadata": {
        "colab": {},
        "colab_type": "code",
        "id": "CNVKwdSxqvgY"
      },
      "outputs": [],
      "source": [
        "sup =[]\n",
        "for i in range(len(traind_scores)):\n",
        "    for j in range(len(traind_scores[i])):\n",
        "        sup.append(traind_scores[i][j][0])"
      ]
    },
    {
      "cell_type": "code",
      "execution_count": null,
      "metadata": {
        "colab": {},
        "colab_type": "code",
        "id": "xKLtQbXYqyIF"
      },
      "outputs": [],
      "source": [
        "tests = []\n",
        "i = 0\n",
        "while i+batch_size <= len(X_test): \n",
        "  \n",
        "    o = session.run([outputs],feed_dict={inputs:X_test[i:i+batch_size]})\n",
        "    i += batch_size\n",
        "    tests.append(o)"
      ]
    },
    {
      "cell_type": "code",
      "execution_count": null,
      "metadata": {
        "colab": {},
        "colab_type": "code",
        "id": "kCypZOwVrIL1"
      },
      "outputs": [],
      "source": [
        " tests_new = []\n",
        "    for i in range(len(tests)):\n",
        "      for j in range(len(tests[i][0])):\n",
        "        tests_new.append(tests[i][0][j])\n",
        "        "
      ]
    },
    {
      "cell_type": "code",
      "execution_count": null,
      "metadata": {
        "colab": {},
        "colab_type": "code",
        "id": "NnLnvsEzeGGY"
      },
      "outputs": [],
      "source": [
        "\n",
        "        \n",
        "\n",
        "    \n",
        "test_results = []\n",
        "for i in range(1264):\n",
        "      if i >= 1019:\n",
        "        test_results.append(tests_new[i-1019])\n",
        "      else:\n",
        "        test_results.append(None)\n",
        "        \n"
      ]
    },
    {
      "cell_type": "code",
      "execution_count": null,
      "metadata": {
        "colab": {
          "base_uri": "https://localhost:8080/",
          "height": 457
        },
        "colab_type": "code",
        "id": "qnQJYH-HqsX4",
        "outputId": "585def6a-1789-4ab4-adf4-8a0146b8e2b8"
      },
      "outputs": [
        {
          "data": {
            "image/png": "[encoded data removed]",
            "text/plain": [
              "<matplotlib.figure.Figure at 0x7f872bcc5240>"
            ]
          },
          "metadata": {
            "tags": []
          },
          "output_type": "display_data"
        }
      ],
      "source": [
        "#we now plot predictions from the network\n",
        "plt.figure(figsize=(16, 7))\n",
        "plt.title('Bitcoin prices from December 2014 to May 2018')\n",
        "plt.xlabel('Days')\n",
        "plt.ylabel('Scaled Price of Bitcoin')\n",
        "plt.plot(scaled_data, label='Original data')\n",
        "plt.plot(sup, label='Training data')\n",
        "plt.plot(test_results, label='Testing data')\n",
        "plt.legend()\n",
        "plt.show()\n"
      ]
    }
  ],
  "metadata": {
    "colab": {
      "name": "btc.ipynb",
      "provenance": [],
      "version": "0.3.2"
    },
    "kernelspec": {
      "display_name": "Python 3",
      "name": "python3"
    },
    "language_info": {
      "codemirror_mode": {
        "name": "ipython",
        "version": 3
      },
      "file_extension": ".py",
      "mimetype": "text/x-python",
      "name": "python",
      "nbconvert_exporter": "python",
      "pygments_lexer": "ipython3",
      "version": "3.7.16"
    }
  },
  "nbformat": 4,
  "nbformat_minor": 0
}
