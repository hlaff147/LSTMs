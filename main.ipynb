{
 "cells": [
  {
   "cell_type": "code",
   "execution_count": null,
   "metadata": {},
   "outputs": [],
   "source": [
    "#install all the required dependancy libraries\n",
    "# !pip install tensorflow (LSTM implementation)\n",
    "# !pip install numpy (For matrix multiplication)\n",
    "# !pip install pandas (Define the data structures)\n",
    "# !pip install matplotlib (For visualization)\n",
    "# !pip install scikit-learn (For normalizing the data)\n",
    "\n",
    "# Import the libraries\n",
    "import tensorflow as tf\n",
    "import numpy as np\n",
    "import pandas as pd\n",
    "import matplotlib.pyplot as plt\n",
    "from tensorflow.preprocessing import StandardScaler\n",
    "import io\n",
    "\n"
   ]
  }
 ],
 "metadata": {
  "language_info": {
   "name": "python"
  },
  "orig_nbformat": 4
 },
 "nbformat": 4,
 "nbformat_minor": 2
}
